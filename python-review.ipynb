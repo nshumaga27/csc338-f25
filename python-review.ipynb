{
 "cells": [
  {
   "cell_type": "markdown",
   "id": "9778849a",
   "metadata": {},
   "source": [
    "CSC/MAT-338: Machine Learning\n",
    "Profs. McKinney and Yoon\n",
    "Fall 2025\n",
    "\n",
    "Assignment 00: Python Review\n",
    "\n",
    "This assignment will serve as a review of fundamentals of Python and a quick introduction to the use of Jupyter notebooks."
   ]
  },
  {
   "cell_type": "code",
   "execution_count": 6,
   "id": "fda2b5c7",
   "metadata": {},
   "outputs": [],
   "source": [
    "from math import sqrt # This is needed to use sqrt().  It's good practice to put library imports at the top."
   ]
  },
  {
   "cell_type": "markdown",
   "id": "f6435a7d",
   "metadata": {},
   "source": [
    "TASK 1: Variables and IO\n",
    "\n",
    "In this task, define:\n",
    "- A integer variable called foo, with your choice of value\n",
    "- A floating point variable called bar, with your choice of value\n",
    "- A string variable called myname, containing your name\n",
    "\n",
    "Using the print() function, print the names, values, and types of each of the variables.  You can use either f-strings or string concatenation for the printing.\n",
    "\n",
    "Sample output:\n",
    "\n",
    "The value of foo is 3 and its type is <class 'int'>\n",
    "\n",
    "The value of bar is 3.14 and its type is <class 'float'>\n",
    "\n",
    "The value of myname is Colin and its type is <class 'str'>"
   ]
  },
  {
   "cell_type": "code",
   "execution_count": 7,
   "id": "3c50eb62",
   "metadata": {},
   "outputs": [
    {
     "name": "stdout",
     "output_type": "stream",
     "text": [
      "<class 'int'>\n",
      "<class 'float'>\n",
      "<class 'str'>\n"
     ]
    }
   ],
   "source": [
    "# Code goes here\n",
    "foo=3\n",
    "bar=3.14\n",
    "myname=\"Colin\"\n",
    "\n",
    "print(type(foo))\n",
    "print(type(bar))\n",
    "print(type(myname))\n"
   ]
  },
  {
   "cell_type": "markdown",
   "id": "5a03c5ee",
   "metadata": {},
   "source": [
    "TASK 2: Control Structures\n",
    "\n",
    "Jupyter notebooks are a different way to structure a Python project.  Instead of the entire file running, notebooks allow you to run specific cells.  You can go back and re-run any cell in any order, but need to be careful to ensure variables have been defined before being used.  For example, if this cell had print(foo), but you had not already run the code cell above that defined foo, an error would occur.\n",
    "\n",
    "For this task:\n",
    "- Use a conditional to check whether the value of foo is smaller than the value of bar.  If foo is smaller than bar, print a message to this effect.  Otherwise, print a different message.\n",
    "- Use a loop to print the numbers 1 through 10, along with their squares.\n",
    "- Use another loop to print the numbers 1 through 10, along with their squares, except you should skip 7 and its square.  (Hint: use the continue instruction.  Look up what the difference is between continue and break.)"
   ]
  },
  {
   "cell_type": "code",
   "execution_count": 9,
   "id": "12ed19f2",
   "metadata": {},
   "outputs": [
    {
     "name": "stdout",
     "output_type": "stream",
     "text": [
      "This effect\n",
      "1 1\n",
      "2 4\n",
      "3 9\n",
      "4 16\n",
      "5 25\n",
      "6 36\n",
      "7 49\n",
      "8 64\n",
      "9 81\n",
      "10 100\n",
      "1 1\n",
      "2 4\n",
      "3 9\n",
      "4 16\n",
      "5 25\n",
      "6 36\n",
      "8 64\n",
      "9 81\n",
      "10 100\n"
     ]
    }
   ],
   "source": [
    "# Code goes here\n",
    "if foo<bar:\n",
    "    print(\"This effect\")\n",
    "else:\n",
    "    print(\"Different effect\")\n",
    "\n",
    "for i in range (1,11):\n",
    "    print(i,i*i)\n",
    "\n",
    "i=1\n",
    "while i <=10:\n",
    "    if i==7:\n",
    "        i=i+1\n",
    "        continue\n",
    "    else:\n",
    "        print(i, i*i)\n",
    "        i+=1"
   ]
  },
  {
   "cell_type": "markdown",
   "id": "943562eb",
   "metadata": {},
   "source": [
    "TASK 3: Functions\n",
    "\n",
    "Write a function that accepts an integer.  You may assume that the function will only ever get passed an integer 2 or larger, and so can ignore type checking.  The function should, using a loop, determine if the integer given is prime.  If so, it should return True.  Otherwise, it should return False.  (Hint: you can use the % operator to check the remainder upon division by various numbers.  For primes, you need only check integers from 2 to the floor of the square root of the number.).  Demonstrate that your function works correctly by passing it a few prime numbers and a few composite (non-prime) numbers.\n",
    "\n",
    "Sample output: \n",
    "\n",
    "Is the number 3 prime?: True"
   ]
  },
  {
   "cell_type": "code",
   "execution_count": 10,
   "id": "903c54f5",
   "metadata": {},
   "outputs": [
    {
     "data": {
      "text/plain": [
       "True"
      ]
     },
     "execution_count": 10,
     "metadata": {},
     "output_type": "execute_result"
    }
   ],
   "source": [
    "def isPrime(num: int) -> bool: # Notice how here I've specified that the input should be an int and the return value should be a bool\n",
    "    for i in range(2,int(sqrt(num)+1)):\n",
    "        if num%i==0:\n",
    "            return False\n",
    "    return True\n",
    "        \n",
    "isPrime(3)\n",
    "isPrime(5)"
   ]
  },
  {
   "cell_type": "markdown",
   "id": "9b981b0f",
   "metadata": {},
   "source": [
    "TASK 4: Object-oriented Programming"
   ]
  },
  {
   "cell_type": "markdown",
   "id": "4143d132",
   "metadata": {},
   "source": [
    "Define two objects, called Vertex and Triangle.  A vertex will be a pair of coordinates, for its x and y coordinates.  A triangle will be an object having three Vertex objects within it.  The Triangle class should also have a property called Area, and a method to compute and return the area.  To compute the area of a triangle given only its three vertices, you will need to write a Distance function that returns the distance between two vertices, then use Heron's formula: https://en.wikipedia.org/wiki/Heron%27s_formula"
   ]
  },
  {
   "cell_type": "code",
   "execution_count": 12,
   "id": "af918624",
   "metadata": {},
   "outputs": [],
   "source": [
    "class Vertex:\n",
    "    def __init__(self, xcoord, ycoord):\n",
    "        # code goes here\n",
    "        self.x=xcoord\n",
    "        self.y=ycoord\n",
    "\n",
    "\n",
    "def Distance(v1: Vertex, v2: Vertex):\n",
    "    return sqrt((v2.x - v1.x)**2 + (v2.y - v1.y)**2)\n",
    "\n",
    "\n",
    "class Triangle:\n",
    "    def __init__(self, v1: Vertex, v2: Vertex, v3: Vertex):\n",
    "        self.v1=v1\n",
    "        self.v2=v2\n",
    "        self.v3=v3\n",
    "\n",
    "    def area(self):\n",
    "        a= Distance(self.v1, self.v2)\n",
    "        b= Distance(self.v2, self.v3)\n",
    "        c=Distance(self.v3, self.v1)\n",
    "\n",
    "        s=(a+b+c)/2\n",
    "        return sqrt(s*(s-a)*(s-b)*(s-c))\n",
    "        \n",
    "    "
   ]
  },
  {
   "cell_type": "markdown",
   "id": "e9e80f7f",
   "metadata": {},
   "source": [
    "Now that you've defined functions and classes, you can test them by creating specific instances of them below.  Create three vertices, a triangle using them, and then print the area of the resulting triangle."
   ]
  },
  {
   "cell_type": "code",
   "execution_count": 15,
   "id": "a741e0a9",
   "metadata": {},
   "outputs": [
    {
     "name": "stdout",
     "output_type": "stream",
     "text": [
      "<__main__.Vertex object at 0x10a6f2ea0> <__main__.Vertex object at 0x10a6f2f00> <__main__.Vertex object at 0x10a6f3350>\n",
      "6.0000000000000036\n"
     ]
    }
   ],
   "source": [
    "# Code goes here\n",
    "v1=Vertex(1,3)\n",
    "v2=Vertex(0,0)\n",
    "v3=Vertex(4,0)\n",
    "print(v1,v2,v3)\n",
    "\n",
    "Area_of_Triangle=Triangle(v1,v2,v3)\n",
    "print(Area_of_Triangle.area())"
   ]
  }
 ],
 "metadata": {
  "kernelspec": {
   "display_name": "base",
   "language": "python",
   "name": "python3"
  },
  "language_info": {
   "codemirror_mode": {
    "name": "ipython",
    "version": 3
   },
   "file_extension": ".py",
   "mimetype": "text/x-python",
   "name": "python",
   "nbconvert_exporter": "python",
   "pygments_lexer": "ipython3",
   "version": "3.12.7"
  }
 },
 "nbformat": 4,
 "nbformat_minor": 5
}
